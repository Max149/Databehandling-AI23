{
 "cells": [
  {
   "cell_type": "code",
   "execution_count": 4,
   "metadata": {},
   "outputs": [
    {
     "name": "stdout",
     "output_type": "stream",
     "text": [
      "drivers 2023:       teams:\n",
      "\n",
      "challeballe         Ferrari\n",
      "Mackan verra        Red Bull\n",
      "smoooth operator    Ferrari\n",
      "louise              Mercedes\n"
     ]
    }
   ],
   "source": [
    "driver1 = \"challeballe\"\n",
    "driver2 = \"Mackan verra\"\n",
    "driver3 = \"smoooth operator\"\n",
    "driver4 = \"louise\"\n",
    "team1 = \"Ferrari\"\n",
    "team2 = \"Red Bull\"\n",
    "team3 = \"Ferrari\"\n",
    "team4 = \"Mercedes\"\n",
    "\n",
    "print(f\"{'drivers 2023:':20}{'teams:'}\\n\")\n",
    "print(f\"{driver1:20}{team1}\")\n",
    "print(f\"{driver2:20}{team2}\")\n",
    "print(f\"{driver3:20}{team3}\")\n",
    "print(f\"{driver4:20}{team4}\")"
   ]
  }
 ],
 "metadata": {
  "kernelspec": {
   "display_name": "Databehandling_AI23-lCJy1fPd",
   "language": "python",
   "name": "python3"
  },
  "language_info": {
   "codemirror_mode": {
    "name": "ipython",
    "version": 3
   },
   "file_extension": ".py",
   "mimetype": "text/x-python",
   "name": "python",
   "nbconvert_exporter": "python",
   "pygments_lexer": "ipython3",
   "version": "3.11.6"
  }
 },
 "nbformat": 4,
 "nbformat_minor": 2
}
