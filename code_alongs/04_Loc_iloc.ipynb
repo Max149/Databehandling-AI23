{
 "cells": [
  {
   "cell_type": "code",
   "execution_count": 2,
   "metadata": {},
   "outputs": [],
   "source": [
    "import pandas as pd\n"
   ]
  },
  {
   "cell_type": "code",
   "execution_count": 3,
   "metadata": {},
   "outputs": [],
   "source": [
    "column_values = [f\"Column{i}\" for i in range(1, 5)]\n",
    "index_values = [chr(i) for i in range(65, 72)]\n",
    "\n",
    "df = pd.DataFrame([[f\"{ind}{col}\" for col in range(1,5)] for ind in index_values],\n",
    "                  index=index_values, columns=column_values)"
   ]
  },
  {
   "cell_type": "code",
   "execution_count": 3,
   "metadata": {},
   "outputs": [
    {
     "data": {
      "text/html": [
       "<div>\n",
       "<style scoped>\n",
       "    .dataframe tbody tr th:only-of-type {\n",
       "        vertical-align: middle;\n",
       "    }\n",
       "\n",
       "    .dataframe tbody tr th {\n",
       "        vertical-align: top;\n",
       "    }\n",
       "\n",
       "    .dataframe thead th {\n",
       "        text-align: right;\n",
       "    }\n",
       "</style>\n",
       "<table border=\"1\" class=\"dataframe\">\n",
       "  <thead>\n",
       "    <tr style=\"text-align: right;\">\n",
       "      <th></th>\n",
       "      <th>Column2</th>\n",
       "      <th>Column4</th>\n",
       "    </tr>\n",
       "  </thead>\n",
       "  <tbody>\n",
       "    <tr>\n",
       "      <th>A</th>\n",
       "      <td>A2</td>\n",
       "      <td>A4</td>\n",
       "    </tr>\n",
       "    <tr>\n",
       "      <th>D</th>\n",
       "      <td>D2</td>\n",
       "      <td>D4</td>\n",
       "    </tr>\n",
       "    <tr>\n",
       "      <th>F</th>\n",
       "      <td>F2</td>\n",
       "      <td>F4</td>\n",
       "    </tr>\n",
       "  </tbody>\n",
       "</table>\n",
       "</div>"
      ],
      "text/plain": [
       "  Column2 Column4\n",
       "A      A2      A4\n",
       "D      D2      D4\n",
       "F      F2      F4"
      ]
     },
     "execution_count": 3,
     "metadata": {},
     "output_type": "execute_result"
    }
   ],
   "source": [
    "# Using no slices, returns the value of a single cell\n",
    "df.iloc[1, 0]\n",
    "\n",
    "# Using slice on one axis return a pandas Series object\n",
    "df.iloc[1, :] # Full row 1 (\"B\")\n",
    "df.iloc[:, 0] # Full column 0 (\"Column 1\")\n",
    "df.iloc[:3, 1]# First 3 cells of column 1 (\"Column2\")\n",
    "\n",
    "# Using slice on both axis returns a pandas DataFrame object\n",
    "df.iloc[:2, :2] # returns the four cells in the upper left corner\n",
    "df.iloc[2:6, 1:3] # return col 2 & 3, and rows C-F\n",
    "df.iloc[:, :] # returns a copy of dataframe\n",
    "\n",
    "# Lists can be used instead of slices for either axis\n",
    "df.iloc[[0, 3, 5], [1, 3]]"
   ]
  },
  {
   "cell_type": "code",
   "execution_count": 4,
   "metadata": {},
   "outputs": [
    {
     "data": {
      "text/html": [
       "<div>\n",
       "<style scoped>\n",
       "    .dataframe tbody tr th:only-of-type {\n",
       "        vertical-align: middle;\n",
       "    }\n",
       "\n",
       "    .dataframe tbody tr th {\n",
       "        vertical-align: top;\n",
       "    }\n",
       "\n",
       "    .dataframe thead th {\n",
       "        text-align: right;\n",
       "    }\n",
       "</style>\n",
       "<table border=\"1\" class=\"dataframe\">\n",
       "  <thead>\n",
       "    <tr style=\"text-align: right;\">\n",
       "      <th></th>\n",
       "      <th>Column2</th>\n",
       "      <th>Column4</th>\n",
       "    </tr>\n",
       "  </thead>\n",
       "  <tbody>\n",
       "    <tr>\n",
       "      <th>A</th>\n",
       "      <td>A2</td>\n",
       "      <td>A4</td>\n",
       "    </tr>\n",
       "    <tr>\n",
       "      <th>D</th>\n",
       "      <td>D2</td>\n",
       "      <td>D4</td>\n",
       "    </tr>\n",
       "    <tr>\n",
       "      <th>F</th>\n",
       "      <td>F2</td>\n",
       "      <td>F4</td>\n",
       "    </tr>\n",
       "  </tbody>\n",
       "</table>\n",
       "</div>"
      ],
      "text/plain": [
       "  Column2 Column4\n",
       "A      A2      A4\n",
       "D      D2      D4\n",
       "F      F2      F4"
      ]
     },
     "execution_count": 4,
     "metadata": {},
     "output_type": "execute_result"
    }
   ],
   "source": [
    "# Using no slices, returns the value of a single cell\n",
    "df.loc[\"B\", \"Column1\"]\n",
    "\n",
    "# Using slice on one axis return a pandas Series object\n",
    "df.loc[\"B\", :] # Full row 1 (\"B\")\n",
    "df.loc[:, \"Column1\"] # Full column 0 (\"Column 1\")\n",
    "df.loc[:\"C\", \"Column2\"] # First 3 cells of column 1 (\"Column2\")\n",
    "\n",
    "# Using slice on both axis returns a pandas DataFrame object\n",
    "df.loc[:\"B\", :\"Column2\"] # returns the four cells in the upper left corner\n",
    "df.loc[\"C\":\"F\", \"Column2\":\"Column3\"] # return col 2 & 3, and rows C-F\n",
    "df.loc[:, :] # returns a copy of dataframe\n",
    "\n",
    "# Lists can be used instead of slices for either axis\n",
    "df.loc[[\"A\", \"D\", \"F\"], [\"Column2\", \"Column4\"]]"
   ]
  },
  {
   "cell_type": "code",
   "execution_count": 5,
   "metadata": {},
   "outputs": [
    {
     "data": {
      "text/plain": [
       "A    A3\n",
       "B    B3\n",
       "C    C3\n",
       "D    D3\n",
       "E    E3\n",
       "F    F3\n",
       "G    G3\n",
       "Name: Column3, dtype: object"
      ]
     },
     "execution_count": 5,
     "metadata": {},
     "output_type": "execute_result"
    }
   ],
   "source": [
    "# df[colname] returns a column as a pandas Series object\n",
    "df[\"Column2\"]\n",
    "\n",
    "# df[[list of colnames]] returns a new dataframe withe the given columns\n",
    "df[[\"Column1\", \"Column4\", \"Column3\", \"Column1\"]]\n",
    "\n",
    "# series[index] returns a scalar value\n",
    "df[\"Column2\"][\"D\"]\n",
    "\n",
    "# Indexing a dataframe with a list (of columns) returns a dataframe,\n",
    "# so indexingagain would be on the new dataframe (but don't do this).\n",
    "df[[\"Column1\", \"Column4\", \"Column3\", \"Column1\"]][\"Column3\"]"
   ]
  }
 ],
 "metadata": {
  "kernelspec": {
   "display_name": "Databehandling_AI23-lCJy1fPd",
   "language": "python",
   "name": "python3"
  },
  "language_info": {
   "codemirror_mode": {
    "name": "ipython",
    "version": 3
   },
   "file_extension": ".py",
   "mimetype": "text/x-python",
   "name": "python",
   "nbconvert_exporter": "python",
   "pygments_lexer": "ipython3",
   "version": "3.11.6"
  }
 },
 "nbformat": 4,
 "nbformat_minor": 2
}
