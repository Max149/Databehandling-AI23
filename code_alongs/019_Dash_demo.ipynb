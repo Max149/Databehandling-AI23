{
 "cells": [
  {
   "cell_type": "code",
   "execution_count": 10,
   "metadata": {},
   "outputs": [
    {
     "name": "stdout",
     "output_type": "stream",
     "text": [
      "Dash app running on http://127.0.0.1:3000/\n"
     ]
    }
   ],
   "source": [
    "from dash import Dash, html, dcc, callback, Output, Input\n",
    "import plotly_express as px\n",
    "import pandas as pd\n",
    "\n",
    "counter = 0\n",
    "\n",
    "df = px.data.gapminder()\n",
    "\n",
    "app = Dash(__name__)\n",
    "\n",
    "# my_H1 = html.H1(children=\"My Dash app.\") # <h1>My dash app.</h1>\n",
    "# my_H2 = html.H2(id=\"my_H2\", children=\"more info....\") # <h1>more info....</h1>\n",
    "# my_dropdown = dcc.Dropdown(options=df[\"year\"].unique(), value=2007, style={\"width\": \"200px\"})\n",
    "# my_graph = dcc.Graph(id=\"my-graph\", figure={})\n",
    "# my_button = html.Button(\"Click here!\")\n",
    "\n",
    "# app.layout = html.Div(children=[my_H1, my_H2, my_dropdown, my_graph, my_button])\n",
    "\n",
    "app.layout = html.Div([\n",
    "    html.H1(id=\"my-H1\", children=\"my dash app\"),\n",
    "    html.H2(id=\"my-H2\", children=\"more info....\"),\n",
    "    dcc.Dropdown(options=df[\"year\"].unique(), value=2007, style={\"width\": \"200px\"}),\n",
    "    dcc.Graph(id=\"my-graph\", figure={}),\n",
    "    html.Button(id=\"my_button\",children=\"Click here!\", n_clicks=0)\n",
    "])\n",
    "\n",
    "@callback(\n",
    "    Output(\"my-H2\", component_property=\"children\"),\n",
    "    Output(\"my_graph\", component_property=\"figure\"),\n",
    "    Input(\"my_dropdown\", component_property=\"value\")\n",
    ")\n",
    "def select_year(year):\n",
    "    text = f\"life exp for {year}:\"\n",
    "    figure = px.strip(df.query(\"year==@year\"), x=\"lifeExp\", color=\"continent\")\n",
    "    return text, figure\n",
    "\n",
    "@callback(\n",
    "    Output(\"my-H1\", \"children\"),\n",
    "    Input(\"my_button\", \"n_clicks\")\n",
    ")\n",
    "def button_clicked(n):\n",
    "    global counter\n",
    "    counter += 1\n",
    "    return f\"Button clicked {n} times\"\n",
    "\n",
    "app.run(debug=True, jupyter_mode=\"external\", port=3000)"
   ]
  }
 ],
 "metadata": {
  "kernelspec": {
   "display_name": "Databehandling_AI23-lCJy1fPd",
   "language": "python",
   "name": "python3"
  },
  "language_info": {
   "codemirror_mode": {
    "name": "ipython",
    "version": 3
   },
   "file_extension": ".py",
   "mimetype": "text/x-python",
   "name": "python",
   "nbconvert_exporter": "python",
   "pygments_lexer": "ipython3",
   "version": "3.11.6"
  }
 },
 "nbformat": 4,
 "nbformat_minor": 2
}
