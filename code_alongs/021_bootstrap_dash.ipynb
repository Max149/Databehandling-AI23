{
 "cells": [
  {
   "cell_type": "code",
   "execution_count": 33,
   "metadata": {},
   "outputs": [
    {
     "name": "stdout",
     "output_type": "stream",
     "text": [
      "Dash app running on http://127.0.0.1:8050/\n"
     ]
    }
   ],
   "source": [
    "from dash import Dash, html, dcc, callback, Output, Input\n",
    "import dash_bootstrap_components as dbc\n",
    "\n",
    "app = Dash(\n",
    "    __name__, \n",
    "    external_stylesheets=[dbc.themes.CYBORG],\n",
    "    meta_tags=[\n",
    "        {\"name\": \"viewport\", \"content\": \"width=device-width, initial-scale=1\"}]\n",
    ")\n",
    "           \n",
    "           \n",
    "\n",
    "app.layout = dbc.Container([\n",
    "#    \"nakna mammor i ditt område\",\n",
    "#   dbc.Button(\"Click here!\", color=\"warning\", className=\"ms-2 mt-2 text-uppercase\")\n",
    "    dbc.Row([\n",
    "        dbc.Col(\n",
    "            children=dbc.Input(type=\"text\", placeholder=\"First name:\"),\n",
    "            className=\"mt-2\",\n",
    "            width=12\n",
    "        ),\n",
    "        dbc.Col(\n",
    "            children=dbc.Input(type=\"text\", placeholder=\"First name:\"),\n",
    "            className=\"mt-5\",\n",
    "            width={\"size\": 3, \"offset\": 0}\n",
    "        ),\n",
    "        dbc.Col(\n",
    "            children=dbc.Input(type=\"text\", placeholder=\"Email:\"),\n",
    "            className=\"mt-5\",\n",
    "            width=3\n",
    "        ),\n",
    "    ], justify=\"around\"),\n",
    "\n",
    "    dbc.Row([\n",
    "        dbc.Col(\n",
    "            children=dbc.Input(type=\"text\", placeholder=\"First name:\"),\n",
    "            className=\"mt-5\",\n",
    "            width=6\n",
    "            ),\n",
    "        dbc.Col(\n",
    "            children=dbc.Input(type=\"text\", placeholder=\"First name:\"),\n",
    "            className=\"mt-5\",\n",
    "            width=6\n",
    "            ),\n",
    "        dbc.Col(\n",
    "            children=dbc.Input(type=\"text\", placeholder=\"Email:\"),\n",
    "            className=\"mt-5\",\n",
    "            width=6\n",
    "        )\n",
    "    ], justify=\"between\")\n",
    "\n",
    "], fluid=True)\n",
    "\n",
    "app.run(debug=True, jupyter_mode=\"external\")\n"
   ]
  }
 ],
 "metadata": {
  "kernelspec": {
   "display_name": "Databehandling_AI23-lCJy1fPd",
   "language": "python",
   "name": "python3"
  },
  "language_info": {
   "codemirror_mode": {
    "name": "ipython",
    "version": 3
   },
   "file_extension": ".py",
   "mimetype": "text/x-python",
   "name": "python",
   "nbconvert_exporter": "python",
   "pygments_lexer": "ipython3",
   "version": "3.11.6"
  }
 },
 "nbformat": 4,
 "nbformat_minor": 2
}
